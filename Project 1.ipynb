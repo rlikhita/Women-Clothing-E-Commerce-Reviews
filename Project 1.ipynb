{
 "cells": [
  {
   "cell_type": "markdown",
   "metadata": {},
   "source": [
    "# Women's E-Commerce Clothing Reviews"
   ]
  },
  {
   "cell_type": "markdown",
   "metadata": {},
   "source": [
    "# Introduction\n",
    "\n",
    "Nowadays, every companies use e-commerce to develop their business, especially by using online selling, websites and social media. Understanding customers’ needs is the first priority for any company and business. This way they can find what is their target group and goals, how they can improve their products or services and build their strategy plans around these information. One of the ways for studying costumer behavior in e-commerce is using the reviews and rating they gave to the each product that they purchased online. In this assignment, I am going to analyze the customer reviews on women clothing e-commerce. And I attempt to find the products’ ID which have no recommendation (Recommended IND=0) , and report them so the companies improve these product or stop producing them and come up with new products. And also I try to find a relationship between Rating and Age and Age and Recommendation, and come up with a formula to predict Rating based on Age . Because I believe it is harder to satisfied older women than younger one."
   ]
  },
  {
   "cell_type": "markdown",
   "metadata": {},
   "source": [
    "# Questions:\n",
    "* The Distribution of age of people\n",
    "* The distribution of rating\n",
    "* Proportion of recommended to not recommended\n",
    "* Crosstab plot for Age and Rating, Is the age of people have impact on their rating?\n",
    "* The average rating for each Clothing ID\n",
    "* Finding Clothing ID with low rating mean and report their ID to strategy group so they can make decision about it."
   ]
  },
  {
   "cell_type": "markdown",
   "metadata": {},
   "source": [
    "# The Dataset:\n",
    "The Women’s Clothing E-Commerce Reviews was used as the dataset for this study.(1) This dataset consists of reviews and rating by real customers, hence it has been anonymized. customer names were not included, and references to the company were replaced with “retailer” by the Kaggle website.(3) I download my CSV file which contain my data from The Kaggle website too."
   ]
  },
  {
   "cell_type": "markdown",
   "metadata": {},
   "source": [
    "**Loading Data set**"
   ]
  },
  {
   "cell_type": "code",
   "execution_count": 5,
   "metadata": {},
   "outputs": [],
   "source": [
    "import pandas as pd\n",
    "import matplotlib.pyplot as plt\n",
    "import numpy as np"
   ]
  },
  {
   "cell_type": "code",
   "execution_count": 6,
   "metadata": {},
   "outputs": [],
   "source": [
    "#import dataset from jupyter notebook.\n",
    "data= pd.read_csv('Womens Clothing E-Commerce Reviews.csv')"
   ]
  },
  {
   "cell_type": "markdown",
   "metadata": {},
   "source": [
    "**Describe Data Set**"
   ]
  },
  {
   "cell_type": "code",
   "execution_count": 9,
   "metadata": {},
   "outputs": [
    {
     "name": "stdout",
     "output_type": "stream",
     "text": [
      "   Unnamed: 0  Clothing ID  Age Title  \\\n",
      "0           0          767   33   NaN   \n",
      "\n",
      "                                         Review Text  Rating  Recommended IND  \\\n",
      "0  Absolutely wonderful - silky and sexy and comf...       4                1   \n",
      "\n",
      "   Positive Feedback Count Division Name Department Name Class Name  \n",
      "0                        0     Initmates        Intimate  Intimates  \n"
     ]
    }
   ],
   "source": [
    "print(data.head(1))\n"
   ]
  },
  {
   "cell_type": "code",
   "execution_count": 10,
   "metadata": {},
   "outputs": [
    {
     "name": "stdout",
     "output_type": "stream",
     "text": [
      "       Unnamed: 0  Clothing ID  Age                            Title  \\\n",
      "23485       23485         1104   52  Please make more like this one!   \n",
      "\n",
      "                                             Review Text  Rating  \\\n",
      "23485  This dress in a lovely platinum is feminine an...       5   \n",
      "\n",
      "       Recommended IND  Positive Feedback Count   Division Name  \\\n",
      "23485                1                       22  General Petite   \n",
      "\n",
      "      Department Name Class Name  \n",
      "23485         Dresses    Dresses  \n"
     ]
    }
   ],
   "source": [
    "print(data.tail(1))"
   ]
  },
  {
   "cell_type": "code",
   "execution_count": 11,
   "metadata": {},
   "outputs": [
    {
     "name": "stdout",
     "output_type": "stream",
     "text": [
      "Index(['Unnamed: 0', 'Clothing ID', 'Age', 'Title', 'Review Text', 'Rating',\n",
      "       'Recommended IND', 'Positive Feedback Count', 'Division Name',\n",
      "       'Department Name', 'Class Name'],\n",
      "      dtype='object')\n"
     ]
    }
   ],
   "source": [
    "\n",
    "print(data.columns)"
   ]
  },
  {
   "cell_type": "code",
   "execution_count": 12,
   "metadata": {},
   "outputs": [
    {
     "name": "stdout",
     "output_type": "stream",
     "text": [
      "(23486, 11)\n"
     ]
    }
   ],
   "source": [
    "\n",
    "print(data.shape)"
   ]
  },
  {
   "cell_type": "code",
   "execution_count": 13,
   "metadata": {},
   "outputs": [
    {
     "name": "stdout",
     "output_type": "stream",
     "text": [
      "<class 'pandas.core.frame.DataFrame'>\n",
      "RangeIndex: 23486 entries, 0 to 23485\n",
      "Data columns (total 11 columns):\n",
      "Unnamed: 0                 23486 non-null int64\n",
      "Clothing ID                23486 non-null int64\n",
      "Age                        23486 non-null int64\n",
      "Title                      19676 non-null object\n",
      "Review Text                22641 non-null object\n",
      "Rating                     23486 non-null int64\n",
      "Recommended IND            23486 non-null int64\n",
      "Positive Feedback Count    23486 non-null int64\n",
      "Division Name              23472 non-null object\n",
      "Department Name            23472 non-null object\n",
      "Class Name                 23472 non-null object\n",
      "dtypes: int64(6), object(5)\n",
      "memory usage: 2.0+ MB\n",
      "None\n"
     ]
    }
   ],
   "source": [
    "\n",
    "print(data.info())\n"
   ]
  },
  {
   "cell_type": "code",
   "execution_count": 14,
   "metadata": {},
   "outputs": [
    {
     "name": "stdout",
     "output_type": "stream",
     "text": [
      "         Unnamed: 0   Clothing ID           Age        Rating  \\\n",
      "count  23486.000000  23486.000000  23486.000000  23486.000000   \n",
      "mean   11742.500000    918.118709     43.198544      4.196032   \n",
      "std     6779.968547    203.298980     12.279544      1.110031   \n",
      "min        0.000000      0.000000     18.000000      1.000000   \n",
      "25%     5871.250000    861.000000     34.000000      4.000000   \n",
      "50%    11742.500000    936.000000     41.000000      5.000000   \n",
      "75%    17613.750000   1078.000000     52.000000      5.000000   \n",
      "max    23485.000000   1205.000000     99.000000      5.000000   \n",
      "\n",
      "       Recommended IND  Positive Feedback Count  \n",
      "count     23486.000000             23486.000000  \n",
      "mean          0.822362                 2.535936  \n",
      "std           0.382216                 5.702202  \n",
      "min           0.000000                 0.000000  \n",
      "25%           1.000000                 0.000000  \n",
      "50%           1.000000                 1.000000  \n",
      "75%           1.000000                 3.000000  \n",
      "max           1.000000               122.000000  \n"
     ]
    }
   ],
   "source": [
    "print(data.describe())"
   ]
  },
  {
   "cell_type": "markdown",
   "metadata": {},
   "source": [
    "**Finding missing data**"
   ]
  },
  {
   "cell_type": "code",
   "execution_count": 15,
   "metadata": {},
   "outputs": [
    {
     "name": "stdout",
     "output_type": "stream",
     "text": [
      "Unnamed: 0                    0\n",
      "Clothing ID                   0\n",
      "Age                           0\n",
      "Title                      3810\n",
      "Review Text                 845\n",
      "Rating                        0\n",
      "Recommended IND               0\n",
      "Positive Feedback Count       0\n",
      "Division Name                14\n",
      "Department Name              14\n",
      "Class Name                   14\n",
      "dtype: int64\n"
     ]
    }
   ],
   "source": [
    "#total number of NaN \n",
    "print(data.isnull().sum())\n"
   ]
  },
  {
   "cell_type": "code",
   "execution_count": 16,
   "metadata": {},
   "outputs": [
    {
     "data": {
      "text/html": [
       "<div>\n",
       "<style scoped>\n",
       "    .dataframe tbody tr th:only-of-type {\n",
       "        vertical-align: middle;\n",
       "    }\n",
       "\n",
       "    .dataframe tbody tr th {\n",
       "        vertical-align: top;\n",
       "    }\n",
       "\n",
       "    .dataframe thead th {\n",
       "        text-align: right;\n",
       "    }\n",
       "</style>\n",
       "<table border=\"1\" class=\"dataframe\">\n",
       "  <thead>\n",
       "    <tr style=\"text-align: right;\">\n",
       "      <th></th>\n",
       "      <th>Unnamed: 0</th>\n",
       "      <th>Clothing ID</th>\n",
       "      <th>Age</th>\n",
       "      <th>Title</th>\n",
       "      <th>Review Text</th>\n",
       "      <th>Rating</th>\n",
       "      <th>Recommended IND</th>\n",
       "      <th>Positive Feedback Count</th>\n",
       "      <th>Division Name</th>\n",
       "      <th>Department Name</th>\n",
       "      <th>Class Name</th>\n",
       "    </tr>\n",
       "  </thead>\n",
       "  <tbody>\n",
       "    <tr>\n",
       "      <td>2</td>\n",
       "      <td>2</td>\n",
       "      <td>1077</td>\n",
       "      <td>60</td>\n",
       "      <td>Some major design flaws</td>\n",
       "      <td>I had such high hopes for this dress and reall...</td>\n",
       "      <td>3</td>\n",
       "      <td>0</td>\n",
       "      <td>0</td>\n",
       "      <td>General</td>\n",
       "      <td>Dresses</td>\n",
       "      <td>Dresses</td>\n",
       "    </tr>\n",
       "    <tr>\n",
       "      <td>3</td>\n",
       "      <td>3</td>\n",
       "      <td>1049</td>\n",
       "      <td>50</td>\n",
       "      <td>My favorite buy!</td>\n",
       "      <td>I love, love, love this jumpsuit. it's fun, fl...</td>\n",
       "      <td>5</td>\n",
       "      <td>1</td>\n",
       "      <td>0</td>\n",
       "      <td>General Petite</td>\n",
       "      <td>Bottoms</td>\n",
       "      <td>Pants</td>\n",
       "    </tr>\n",
       "    <tr>\n",
       "      <td>4</td>\n",
       "      <td>4</td>\n",
       "      <td>847</td>\n",
       "      <td>47</td>\n",
       "      <td>Flattering shirt</td>\n",
       "      <td>This shirt is very flattering to all due to th...</td>\n",
       "      <td>5</td>\n",
       "      <td>1</td>\n",
       "      <td>6</td>\n",
       "      <td>General</td>\n",
       "      <td>Tops</td>\n",
       "      <td>Blouses</td>\n",
       "    </tr>\n",
       "    <tr>\n",
       "      <td>5</td>\n",
       "      <td>5</td>\n",
       "      <td>1080</td>\n",
       "      <td>49</td>\n",
       "      <td>Not for the very petite</td>\n",
       "      <td>I love tracy reese dresses, but this one is no...</td>\n",
       "      <td>2</td>\n",
       "      <td>0</td>\n",
       "      <td>4</td>\n",
       "      <td>General</td>\n",
       "      <td>Dresses</td>\n",
       "      <td>Dresses</td>\n",
       "    </tr>\n",
       "    <tr>\n",
       "      <td>6</td>\n",
       "      <td>6</td>\n",
       "      <td>858</td>\n",
       "      <td>39</td>\n",
       "      <td>Cagrcoal shimmer fun</td>\n",
       "      <td>I aded this in my basket at hte last mintue to...</td>\n",
       "      <td>5</td>\n",
       "      <td>1</td>\n",
       "      <td>1</td>\n",
       "      <td>General Petite</td>\n",
       "      <td>Tops</td>\n",
       "      <td>Knits</td>\n",
       "    </tr>\n",
       "    <tr>\n",
       "      <td>...</td>\n",
       "      <td>...</td>\n",
       "      <td>...</td>\n",
       "      <td>...</td>\n",
       "      <td>...</td>\n",
       "      <td>...</td>\n",
       "      <td>...</td>\n",
       "      <td>...</td>\n",
       "      <td>...</td>\n",
       "      <td>...</td>\n",
       "      <td>...</td>\n",
       "      <td>...</td>\n",
       "    </tr>\n",
       "    <tr>\n",
       "      <td>23481</td>\n",
       "      <td>23481</td>\n",
       "      <td>1104</td>\n",
       "      <td>34</td>\n",
       "      <td>Great dress for many occasions</td>\n",
       "      <td>I was very happy to snag this dress at such a ...</td>\n",
       "      <td>5</td>\n",
       "      <td>1</td>\n",
       "      <td>0</td>\n",
       "      <td>General Petite</td>\n",
       "      <td>Dresses</td>\n",
       "      <td>Dresses</td>\n",
       "    </tr>\n",
       "    <tr>\n",
       "      <td>23482</td>\n",
       "      <td>23482</td>\n",
       "      <td>862</td>\n",
       "      <td>48</td>\n",
       "      <td>Wish it was made of cotton</td>\n",
       "      <td>It reminds me of maternity clothes. soft, stre...</td>\n",
       "      <td>3</td>\n",
       "      <td>1</td>\n",
       "      <td>0</td>\n",
       "      <td>General Petite</td>\n",
       "      <td>Tops</td>\n",
       "      <td>Knits</td>\n",
       "    </tr>\n",
       "    <tr>\n",
       "      <td>23483</td>\n",
       "      <td>23483</td>\n",
       "      <td>1104</td>\n",
       "      <td>31</td>\n",
       "      <td>Cute, but see through</td>\n",
       "      <td>This fit well, but the top was very see throug...</td>\n",
       "      <td>3</td>\n",
       "      <td>0</td>\n",
       "      <td>1</td>\n",
       "      <td>General Petite</td>\n",
       "      <td>Dresses</td>\n",
       "      <td>Dresses</td>\n",
       "    </tr>\n",
       "    <tr>\n",
       "      <td>23484</td>\n",
       "      <td>23484</td>\n",
       "      <td>1084</td>\n",
       "      <td>28</td>\n",
       "      <td>Very cute dress, perfect for summer parties an...</td>\n",
       "      <td>I bought this dress for a wedding i have this ...</td>\n",
       "      <td>3</td>\n",
       "      <td>1</td>\n",
       "      <td>2</td>\n",
       "      <td>General</td>\n",
       "      <td>Dresses</td>\n",
       "      <td>Dresses</td>\n",
       "    </tr>\n",
       "    <tr>\n",
       "      <td>23485</td>\n",
       "      <td>23485</td>\n",
       "      <td>1104</td>\n",
       "      <td>52</td>\n",
       "      <td>Please make more like this one!</td>\n",
       "      <td>This dress in a lovely platinum is feminine an...</td>\n",
       "      <td>5</td>\n",
       "      <td>1</td>\n",
       "      <td>22</td>\n",
       "      <td>General Petite</td>\n",
       "      <td>Dresses</td>\n",
       "      <td>Dresses</td>\n",
       "    </tr>\n",
       "  </tbody>\n",
       "</table>\n",
       "<p>19662 rows × 11 columns</p>\n",
       "</div>"
      ],
      "text/plain": [
       "       Unnamed: 0  Clothing ID  Age  \\\n",
       "2               2         1077   60   \n",
       "3               3         1049   50   \n",
       "4               4          847   47   \n",
       "5               5         1080   49   \n",
       "6               6          858   39   \n",
       "...           ...          ...  ...   \n",
       "23481       23481         1104   34   \n",
       "23482       23482          862   48   \n",
       "23483       23483         1104   31   \n",
       "23484       23484         1084   28   \n",
       "23485       23485         1104   52   \n",
       "\n",
       "                                                   Title  \\\n",
       "2                                Some major design flaws   \n",
       "3                                       My favorite buy!   \n",
       "4                                       Flattering shirt   \n",
       "5                                Not for the very petite   \n",
       "6                                   Cagrcoal shimmer fun   \n",
       "...                                                  ...   \n",
       "23481                     Great dress for many occasions   \n",
       "23482                         Wish it was made of cotton   \n",
       "23483                              Cute, but see through   \n",
       "23484  Very cute dress, perfect for summer parties an...   \n",
       "23485                    Please make more like this one!   \n",
       "\n",
       "                                             Review Text  Rating  \\\n",
       "2      I had such high hopes for this dress and reall...       3   \n",
       "3      I love, love, love this jumpsuit. it's fun, fl...       5   \n",
       "4      This shirt is very flattering to all due to th...       5   \n",
       "5      I love tracy reese dresses, but this one is no...       2   \n",
       "6      I aded this in my basket at hte last mintue to...       5   \n",
       "...                                                  ...     ...   \n",
       "23481  I was very happy to snag this dress at such a ...       5   \n",
       "23482  It reminds me of maternity clothes. soft, stre...       3   \n",
       "23483  This fit well, but the top was very see throug...       3   \n",
       "23484  I bought this dress for a wedding i have this ...       3   \n",
       "23485  This dress in a lovely platinum is feminine an...       5   \n",
       "\n",
       "       Recommended IND  Positive Feedback Count   Division Name  \\\n",
       "2                    0                        0         General   \n",
       "3                    1                        0  General Petite   \n",
       "4                    1                        6         General   \n",
       "5                    0                        4         General   \n",
       "6                    1                        1  General Petite   \n",
       "...                ...                      ...             ...   \n",
       "23481                1                        0  General Petite   \n",
       "23482                1                        0  General Petite   \n",
       "23483                0                        1  General Petite   \n",
       "23484                1                        2         General   \n",
       "23485                1                       22  General Petite   \n",
       "\n",
       "      Department Name Class Name  \n",
       "2             Dresses    Dresses  \n",
       "3             Bottoms      Pants  \n",
       "4                Tops    Blouses  \n",
       "5             Dresses    Dresses  \n",
       "6                Tops      Knits  \n",
       "...               ...        ...  \n",
       "23481         Dresses    Dresses  \n",
       "23482            Tops      Knits  \n",
       "23483         Dresses    Dresses  \n",
       "23484         Dresses    Dresses  \n",
       "23485         Dresses    Dresses  \n",
       "\n",
       "[19662 rows x 11 columns]"
      ]
     },
     "execution_count": 16,
     "metadata": {},
     "output_type": "execute_result"
    }
   ],
   "source": [
    "# deleting null or missing data values\n",
    "data.dropna()"
   ]
  },
  {
   "cell_type": "code",
   "execution_count": 17,
   "metadata": {},
   "outputs": [],
   "source": [
    "df= data.rename(index=str,columns={\"Recommended IND\":\"Recom\", \"Clothing ID\":\"ID\", \"Review Text\":\"Review\"})"
   ]
  },
  {
   "cell_type": "markdown",
   "metadata": {},
   "source": [
    "**Based on the questions I just need columns : ID,Age,Review,Rating,Recommended. So I am going to seperate them from dataframe by .loc**"
   ]
  },
  {
   "cell_type": "code",
   "execution_count": 18,
   "metadata": {},
   "outputs": [
    {
     "name": "stdout",
     "output_type": "stream",
     "text": [
      "     ID                                             Review  Recom  Age  Rating\n",
      "0   767  Absolutely wonderful - silky and sexy and comf...      1   33       4\n",
      "1  1080  Love this dress!  it's sooo pretty.  i happene...      1   34       5\n",
      "2  1077  I had such high hopes for this dress and reall...      0   60       3\n",
      "3  1049  I love, love, love this jumpsuit. it's fun, fl...      1   50       5\n",
      "4   847  This shirt is very flattering to all due to th...      1   47       5\n"
     ]
    }
   ],
   "source": [
    "\n",
    "Df= df.loc[:,[\"ID\",\"Review\",\"Recom\",\"Age\",\"Rating\"]]\n",
    "print (Df.head())"
   ]
  },
  {
   "cell_type": "markdown",
   "metadata": {},
   "source": [
    "**Now the data is understood, aheading towards solving the questions**"
   ]
  },
  {
   "cell_type": "markdown",
   "metadata": {},
   "source": [
    "\n",
    "# Q1:The Distribution of age of people"
   ]
  },
  {
   "cell_type": "code",
   "execution_count": 20,
   "metadata": {},
   "outputs": [
    {
     "data": {
      "image/png": "[encoded data removed]",
      "text/plain": [
       "<Figure size 432x288 with 1 Axes>"
      ]
     },
     "metadata": {
      "needs_background": "light"
     },
     "output_type": "display_data"
    }
   ],
   "source": [
    "#Histogram for Age\n",
    "plt.hist(Df['Age'],bins=20)\n",
    "plt.title('Age distribution')\n",
    "plt.xlabel('Age')\n",
    "plt.show()"
   ]
  },
  {
   "cell_type": "markdown",
   "metadata": {},
   "source": [
    "**Result: As you can see the mode of the age is between 30-40**"
   ]
  },
  {
   "cell_type": "code",
   "execution_count": 21,
   "metadata": {},
   "outputs": [
    {
     "data": {
      "image/png": "[encoded data removed]",
      "text/plain": [
       "<Figure size 432x288 with 1 Axes>"
      ]
     },
     "metadata": {
      "needs_background": "light"
     },
     "output_type": "display_data"
    }
   ],
   "source": [
    "#Histogram for Rating\n",
    "plt.hist(Df['Rating'],bins=5)\n",
    "plt.title('Rating distribution')\n",
    "plt.xlabel('Rating')\n",
    "plt.show()"
   ]
  },
  {
   "cell_type": "markdown",
   "metadata": {},
   "source": [
    "**Result: As you can see most of the rates is five**"
   ]
  },
  {
   "cell_type": "markdown",
   "metadata": {},
   "source": [
    "# Q2:The distribution of rating\n"
   ]
  },
  {
   "cell_type": "code",
   "execution_count": 22,
   "metadata": {},
   "outputs": [
    {
     "name": "stdout",
     "output_type": "stream",
     "text": [
      "          ID  Review    Age  Rating\n",
      "Recom                              \n",
      "0       4172    4101   4172    4172\n",
      "1      19314   18540  19314   19314\n"
     ]
    }
   ],
   "source": [
    "#pie chart for recommended\n",
    "z= Df.groupby('Recom').count()\n",
    "print(z)"
   ]
  },
  {
   "cell_type": "code",
   "execution_count": 23,
   "metadata": {},
   "outputs": [
    {
     "data": {
      "image/png": "[encoded data removed]",
      "text/plain": [
       "<Figure size 432x288 with 1 Axes>"
      ]
     },
     "metadata": {},
     "output_type": "display_data"
    }
   ],
   "source": [
    "label= 'Recommended', 'Not recommended'\n",
    "size= [4172,19314]\n",
    "color=['Red','Blue']\n",
    " \n",
    "# Plot\n",
    "plt.pie(size, labels=label, colors=color,\n",
    "autopct='%1.1f%%', shadow=True, startangle=140)\n",
    " \n",
    "plt.axis('equal')\n",
    "plt.show()"
   ]
  },
  {
   "cell_type": "markdown",
   "metadata": {},
   "source": [
    "In here we can see most of the people do not recommend the clothes that they bought\n",
    "\n",
    "**Conclusion**: Because be mode of rating is 5, we can say people do not pay attention to the recommended question unless they are not satisfied with their purchase"
   ]
  },
  {
   "cell_type": "code",
   "execution_count": 24,
   "metadata": {},
   "outputs": [
    {
     "name": "stdout",
     "output_type": "stream",
     "text": [
      "       Age  Rating AGE_mean\n",
      "0       33       4       35\n",
      "1       34       5       35\n",
      "2       60       3       65\n",
      "3       50       5       55\n",
      "4       47       5       45\n",
      "...    ...     ...      ...\n",
      "23481   34       5       35\n",
      "23482   48       3       45\n",
      "23483   31       3       35\n",
      "23484   28       3       25\n",
      "23485   52       5       55\n",
      "\n",
      "[23486 rows x 3 columns]\n"
     ]
    }
   ],
   "source": [
    "Q4=Df.loc[:,['Age','Rating']]\n",
    "conditions = [\n",
    "    (Df['Age'] < 20),\n",
    "    (Df['Age'] >=20) & (Df['Age'] <30),\n",
    "    (Df['Age'] >=30) & (Df['Age'] <40),\n",
    "    (Df['Age'] >=40) & (Df['Age'] <50),\n",
    "    (Df['Age'] >=50) & (Df['Age'] <60),\n",
    "    (Df['Age'] >=60) & (Df['Age'] <70),\n",
    "    (Df['Age'] >=70)\n",
    "    ]\n",
    "choices = [20,25,35,45,55,65,70]\n",
    "Q4['AGE_mean'] = np.select(conditions, choices, default='A')\n",
    "print(Q4)"
   ]
  },
  {
   "cell_type": "markdown",
   "metadata": {},
   "source": [
    "# Q3:Proportion of recommended to not recommended"
   ]
  },
  {
   "cell_type": "code",
   "execution_count": 25,
   "metadata": {},
   "outputs": [
    {
     "data": {
      "text/plain": [
       "Text(0, 0.5, 'Frequency of Rating')"
      ]
     },
     "execution_count": 25,
     "metadata": {},
     "output_type": "execute_result"
    },
    {
     "data": {
      "image/png": "[encoded data removed]",
      "text/plain": [
       "<Figure size 360x360 with 1 Axes>"
      ]
     },
     "metadata": {
      "needs_background": "light"
     },
     "output_type": "display_data"
    }
   ],
   "source": [
    "pd.crosstab(Q4.AGE_mean,Q4.Rating).plot(kind=\"bar\",figsize=(5,5))\n",
    "plt.xlabel('Age')\n",
    "plt.ylabel('Frequency of Rating')"
   ]
  },
  {
   "cell_type": "markdown",
   "metadata": {},
   "source": [
    "Based on the figure above: In every group of age, most of the people give 5 to their purcheses."
   ]
  },
  {
   "cell_type": "markdown",
   "metadata": {},
   "source": [
    "# Q4:Crosstab plot for Age and Rating, Is the age of people have impact on their rating?"
   ]
  },
  {
   "cell_type": "code",
   "execution_count": 27,
   "metadata": {},
   "outputs": [],
   "source": [
    "Q4_1=Q4.loc[Q4['Rating'] == 5]\n",
    "Q4_2=Q4_1.groupby(['AGE_mean']).count()"
   ]
  },
  {
   "cell_type": "code",
   "execution_count": 28,
   "metadata": {},
   "outputs": [],
   "source": [
    "Q4_3= Q4.groupby(['AGE_mean']).count()"
   ]
  },
  {
   "cell_type": "code",
   "execution_count": 29,
   "metadata": {},
   "outputs": [
    {
     "data": {
      "text/plain": [
       "AGE_mean\n",
       "20    45.454545\n",
       "25    55.871147\n",
       "35    54.622176\n",
       "45    53.925249\n",
       "55    57.928065\n",
       "65    60.997831\n",
       "70    62.156448\n",
       "Name: Age, dtype: float64"
      ]
     },
     "execution_count": 29,
     "metadata": {},
     "output_type": "execute_result"
    }
   ],
   "source": [
    "100* Q4_2['Age']/Q4_3['Age']"
   ]
  },
  {
   "cell_type": "markdown",
   "metadata": {},
   "source": [
    "As result, we can see as customers’ age goes up the percentage of the people who give the 5 to the clothes is goes up. So, it is easier to please the older woman than younger one."
   ]
  },
  {
   "cell_type": "markdown",
   "metadata": {},
   "source": [
    "# Q5 : The average rating for each Clothing ID?"
   ]
  },
  {
   "cell_type": "code",
   "execution_count": 30,
   "metadata": {},
   "outputs": [
    {
     "name": "stdout",
     "output_type": "stream",
     "text": [
      "          mean\n",
      "ID            \n",
      "0     5.000000\n",
      "1     4.000000\n",
      "2     4.000000\n",
      "3     5.000000\n",
      "4     5.000000\n",
      "...        ...\n",
      "1201  4.000000\n",
      "1202  4.333333\n",
      "1203  4.545455\n",
      "1204  4.500000\n",
      "1205  5.000000\n",
      "\n",
      "[1206 rows x 1 columns]\n"
     ]
    }
   ],
   "source": [
    "#the average rating for each clothing ID\n",
    "Q5= pd.DataFrame(Df.groupby('ID')['Rating'].mean().rename('mean'))\n",
    "print(Q5)"
   ]
  },
  {
   "cell_type": "markdown",
   "metadata": {},
   "source": [
    "# Q6: Finding Clothing ID with low rating mean and report their ID to strategy group so they can make decision about it."
   ]
  },
  {
   "cell_type": "code",
   "execution_count": 31,
   "metadata": {},
   "outputs": [
    {
     "data": {
      "text/plain": [
       "Int64Index([  11,   18,   80,   91,   96,   99,  104,  106,  118,  185,  192,\n",
       "             210,  219,  220,  229,  235,  236,  246,  259,  269,  273,  284,\n",
       "             285,  305,  348,  368,  369,  371,  421,  432,  521,  559,  567,\n",
       "             569,  572,  588,  635,  653,  669,  743,  758,  759,  785,  812,\n",
       "             814,  913,  946,  973,  982, 1127, 1152, 1158, 1176, 1195],\n",
       "           dtype='int64', name='ID')"
      ]
     },
     "execution_count": 31,
     "metadata": {},
     "output_type": "execute_result"
    }
   ],
   "source": [
    "Q5[Q5['mean']<2.5].index"
   ]
  },
  {
   "cell_type": "markdown",
   "metadata": {},
   "source": [
    "**Conclusion**: The clothes whose IDs are mentioned in above cell need some things or they can eliminate them from their selling items."
   ]
  },
  {
   "cell_type": "code",
   "execution_count": null,
   "metadata": {},
   "outputs": [],
   "source": []
  }
 ],
 "metadata": {
  "kernelspec": {
   "display_name": "Python 3",
   "language": "python",
   "name": "python3"
  },
  "language_info": {
   "codemirror_mode": {
    "name": "ipython",
    "version": 3
   },
   "file_extension": ".py",
   "mimetype": "text/x-python",
   "name": "python",
   "nbconvert_exporter": "python",
   "pygments_lexer": "ipython3",
   "version": "3.7.4"
  }
 },
 "nbformat": 4,
 "nbformat_minor": 2
}
